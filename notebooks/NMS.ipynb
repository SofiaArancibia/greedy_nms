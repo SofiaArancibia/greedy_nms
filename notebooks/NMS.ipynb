{
 "cells": [
  {
   "cell_type": "code",
   "execution_count": 4,
   "metadata": {},
   "outputs": [],
   "source": [
    "import csv\n",
    "from collections import defaultdict\n",
    "import cv2\n",
    "import matplotlib.pyplot as plt"
   ]
  },
  {
   "cell_type": "code",
   "execution_count": 5,
   "metadata": {},
   "outputs": [],
   "source": [
    "import numpy as np\n",
    "import random"
   ]
  },
  {
   "cell_type": "code",
   "execution_count": 6,
   "metadata": {},
   "outputs": [],
   "source": [
    "def iou(box1, box2):\n",
    "    \"\"\"\n",
    "    Function that calculates intersection over union ratio given two bounding boxes\n",
    "    input:\n",
    "        box1, box2: bounding boxes (BB) as tuples in the form (x,y,w,h)\n",
    "                    where (x,y) are the top left corner coordinates, and (w,h) are the widht and height of the BB\n",
    "    output: intersection over union ratio\n",
    "    \"\"\"\n",
    "    x1, y1, w1, h1 = box1\n",
    "    x2, y2, w2, h2 = box2\n",
    "    w_intersection = min(x1 + w1, x2 + w2) - max(x1, x2)\n",
    "    h_intersection = min(y1 + h1, y2 + h2) - max(y1, y2)\n",
    "    if (w_intersection <= 0) or (h_intersection) <= 0: # no overlap\n",
    "        return 0\n",
    "    I = w_intersection * h_intersection # rectangle area (b * h)\n",
    "    U = (w1 * h1) + (w2 * h2) - I # union = area - intersection\n",
    "    return I / U"
   ]
  },
  {
   "cell_type": "code",
   "execution_count": 7,
   "metadata": {},
   "outputs": [],
   "source": [
    "def non_maximum_suppression(boxes, scores, threshold):\n",
    "    \"\"\"\n",
    "    Function that filter noisy bounding boxes by non-maximum suppresion method\n",
    "    input:\n",
    "        boxes: bounding boxes (BB) list. List of tuples in the form (x,y,w,h) \n",
    "               where (x,y) are the top left corner coordinates, and (w,h) are the widht and height of the BB\n",
    "        scores: detection scores list\n",
    "        threshold: overlapping threshold for supression\n",
    "    ouput:\n",
    "        D: final detections (BBs) list\n",
    "    \"\"\"\n",
    "    D = list()\n",
    "    ret_scores = list()\n",
    "    while boxes:\n",
    "        max_idx = np.argmax(scores) # get max score index\n",
    "        m = scores[max_idx] # get max score\n",
    "        M = boxes[max_idx] # get the BB with the max score\n",
    "        ret_scores.append(m)\n",
    "        D.append(M) # store the BB with max detection score as final detection candidate\n",
    "        del boxes[max_idx] # remove the BB from the list\n",
    "        del scores[max_idx] # remove score from the list\n",
    "        for idx, box in enumerate(boxes): # iterate over the other boxes to filter out BB that overlaps the most\n",
    "            if iou(M,box) >= threshold:\n",
    "                del boxes[idx]\n",
    "                del scores[idx]\n",
    "    return D, ret_scores"
   ]
  },
  {
   "cell_type": "code",
   "execution_count": 8,
   "metadata": {},
   "outputs": [],
   "source": [
    "def get_random_corner(sample_shape, img_shape):\n",
    "    \n",
    "    '''\n",
    "    description: Returns a point in the image. As the point is going to be used as sample top-left corner, the function\n",
    "    also checks if the final sample is crossing the boundaries. If so, re-calculates the point.\n",
    "    input:\n",
    "        - sample_shape: list\n",
    "        - img_shape: list\n",
    "    output:\n",
    "        - corner: list\n",
    "    '''\n",
    "    \n",
    "    ylimit = img_shape[0]\n",
    "    xlimit = img_shape[1]\n",
    "    \n",
    "    corner = [random.randint(0, ylimit), random.randint(0, xlimit)]\n",
    "    \n",
    "    ycheck = (corner[0] + sample_shape[0]) <= ylimit\n",
    "    xcheck = (corner[1] + sample_shape[1]) <= xlimit\n",
    "    \n",
    "    while ((not ycheck) or (not xcheck)):\n",
    "        corner = get_random_corner(sample_shape, img_shape)\n",
    "        ycheck = (corner[0] + sample_shape[0]) <= ylimit\n",
    "        xcheck = (corner[1] + sample_shape[1]) <= xlimit\n",
    "    \n",
    "    score = round(random.random(),2)\n",
    "    coords = (corner[0], corner[1], sample_shape[0], sample_shape[1], score)\n",
    "    \n",
    "    return coords"
   ]
  },
  {
   "cell_type": "markdown",
   "metadata": {},
   "source": [
    "#### Generate random bounding boxes and scores"
   ]
  },
  {
   "cell_type": "code",
   "execution_count": 9,
   "metadata": {},
   "outputs": [],
   "source": [
    "shapes = []\n",
    "img_shape = [50,50]\n",
    "for i in range(random.randint(5,10)):\n",
    "    shapes.append([random.randint(0,img_shape[0]), random.randint(0,img_shape[1])])\n",
    "bbs = []\n",
    "scores = []\n",
    "for shape in shapes:\n",
    "    bb = get_random_corner(shape, img_shape)\n",
    "    score = bb[4]\n",
    "    bb = (bb[0],bb[1],bb[2],bb[3])    \n",
    "    bbs.append(bb)\n",
    "    scores.append(score)"
   ]
  },
  {
   "cell_type": "markdown",
   "metadata": {},
   "source": [
    "#### Create empty image"
   ]
  },
  {
   "cell_type": "code",
   "execution_count": 10,
   "metadata": {},
   "outputs": [],
   "source": [
    "img_before = np.zeros((img_shape[0]+10, img_shape[1]+10, 3), dtype = \"uint8\")"
   ]
  },
  {
   "cell_type": "markdown",
   "metadata": {},
   "source": [
    "#### Plot bounding boxes"
   ]
  },
  {
   "cell_type": "code",
   "execution_count": 11,
   "metadata": {},
   "outputs": [],
   "source": [
    "for idx, bb in enumerate(bbs):\n",
    "    x, y, w, h = bb    \n",
    "    cv2.rectangle(img_before, (x, y), (x+w, y+h), (0, 255, 0), 1)"
   ]
  },
  {
   "cell_type": "code",
   "execution_count": 12,
   "metadata": {},
   "outputs": [
    {
     "data": {
      "text/plain": [
       "<matplotlib.image.AxesImage at 0x7f31e8eb5320>"
      ]
     },
     "execution_count": 12,
     "metadata": {},
     "output_type": "execute_result"
    },
    {
     "data": {
      "image/png": "[encoded data removed]",
      "text/plain": [
       "<Figure size 432x288 with 1 Axes>"
      ]
     },
     "metadata": {
      "needs_background": "light"
     },
     "output_type": "display_data"
    }
   ],
   "source": [
    "plt.title(\"Before\")\n",
    "plt.imshow(img_before)\n",
    "#plt.clf()"
   ]
  },
  {
   "cell_type": "markdown",
   "metadata": {},
   "source": [
    "#### Apply NMS"
   ]
  },
  {
   "cell_type": "code",
   "execution_count": 13,
   "metadata": {},
   "outputs": [],
   "source": [
    "D, ret_scores = non_maximum_suppression(bbs, scores, 0.2)"
   ]
  },
  {
   "cell_type": "markdown",
   "metadata": {},
   "source": [
    "#### Plot final detections"
   ]
  },
  {
   "cell_type": "code",
   "execution_count": 14,
   "metadata": {},
   "outputs": [],
   "source": [
    "img_after = np.zeros((img_shape[0]+10, img_shape[1]+10, 3), dtype = \"uint8\")"
   ]
  },
  {
   "cell_type": "code",
   "execution_count": 15,
   "metadata": {},
   "outputs": [],
   "source": [
    "for bb in D:\n",
    "    x, y, w, h = bb    \n",
    "    cv2.rectangle(img_after, (x, y), (x+w, y+h), (0, 255, 0), 1)"
   ]
  },
  {
   "cell_type": "code",
   "execution_count": 16,
   "metadata": {},
   "outputs": [
    {
     "data": {
      "text/plain": [
       "<matplotlib.image.AxesImage at 0x7f31e698a518>"
      ]
     },
     "execution_count": 16,
     "metadata": {},
     "output_type": "execute_result"
    },
    {
     "data": {
      "image/png": "[encoded data removed]",
      "text/plain": [
       "<Figure size 432x288 with 1 Axes>"
      ]
     },
     "metadata": {
      "needs_background": "light"
     },
     "output_type": "display_data"
    }
   ],
   "source": [
    "plt.title(\"After\")\n",
    "plt.imshow(img_after)"
   ]
  }
 ],
 "metadata": {
  "kernelspec": {
   "display_name": "Python 3",
   "language": "python",
   "name": "python3"
  },
  "language_info": {
   "codemirror_mode": {
    "name": "ipython",
    "version": 3
   },
   "file_extension": ".py",
   "mimetype": "text/x-python",
   "name": "python",
   "nbconvert_exporter": "python",
   "pygments_lexer": "ipython3",
   "version": "3.8.2"
  }
 },
 "nbformat": 4,
 "nbformat_minor": 4
}
